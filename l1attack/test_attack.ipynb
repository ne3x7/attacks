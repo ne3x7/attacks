{
 "cells": [
  {
   "cell_type": "code",
   "execution_count": 1,
   "metadata": {},
   "outputs": [],
   "source": [
    "import numpy as np\n",
    "import matplotlib.pyplot as plt\n",
    "from scipy.misc import imread\n",
    "%matplotlib inline\n",
    "import os\n",
    "from dataset import Dataset, default_inception_transform\n",
    "import numpy as np\n",
    "import torch\n",
    "import torchvision\n",
    "import torch.utils.data as data\n",
    "from torchvision import datasets, transforms"
   ]
  },
  {
   "cell_type": "code",
   "execution_count": 2,
   "metadata": {},
   "outputs": [
    {
     "name": "stdout",
     "output_type": "stream",
     "text": [
      "/opt/conda/lib/python3.6/site-packages/torchvision/transforms/transforms.py:188: UserWarning: The use of the transforms.Scale transform is deprecated, please use transforms.Resize instead.\r\n",
      "  \"please use transforms.Resize instead.\")\r\n"
     ]
    }
   ],
   "source": [
    "!python run_attack_iter.py \\\n",
    "  --input_dir=imgs \\\n",
    "  --output_dir=advimgs \\\n",
    "  --max_epsilon=10 \\\n",
    "  --steps 50 \\\n",
    "  --norm 1 \\\n",
    "  --checkpoint_path=inception_v3_google-1a9a5a14.pth"
   ]
  },
  {
   "cell_type": "code",
   "execution_count": 3,
   "metadata": {},
   "outputs": [],
   "source": [
    "model = torchvision.models.inception_v3(pretrained=False, transform_input=False)\n",
    "model=model.cuda()\n",
    "checkpoint = torch.load('inception_v3_google-1a9a5a14.pth')\n",
    "model.load_state_dict(checkpoint)"
   ]
  },
  {
   "cell_type": "code",
   "execution_count": 4,
   "metadata": {},
   "outputs": [
    {
     "name": "stderr",
     "output_type": "stream",
     "text": [
      "/opt/conda/lib/python3.6/site-packages/torchvision/transforms/transforms.py:188: UserWarning: The use of the transforms.Scale transform is deprecated, please use transforms.Resize instead.\n",
      "  \"please use transforms.Resize instead.\")\n"
     ]
    }
   ],
   "source": [
    "out_origs=[]\n",
    "dataset = Dataset('imgs', target_file='', transform=default_inception_transform(299))\n",
    "loader = data.DataLoader(dataset, shuffle=False)\n",
    "model.eval()\n",
    "for batch_idx, (input, target) in enumerate(loader):\n",
    "        input = input.cuda()\n",
    "        target = target.cuda()\n",
    "        out_origs.append(torch.argmax(model.forward(input)).detach().cpu().numpy())"
   ]
  },
  {
   "cell_type": "code",
   "execution_count": 5,
   "metadata": {},
   "outputs": [],
   "source": [
    "dataset = Dataset('advimgs', target_file='', transform=transforms.ToTensor())\n",
    "loader = data.DataLoader(dataset, shuffle=False)\n",
    "out_advs=[]\n",
    "for batch_idx, (input, target) in enumerate(loader):\n",
    "        input = input.cuda()\n",
    "        target = target.cuda()\n",
    "        out_advs.append(torch.argmax(model.forward(input)).detach().cpu().numpy())"
   ]
  },
  {
   "cell_type": "code",
   "execution_count": 7,
   "metadata": {},
   "outputs": [
    {
     "name": "stdout",
     "output_type": "stream",
     "text": [
      "100.0\n"
     ]
    }
   ],
   "source": [
    "success_rate = 0\n",
    "for i in range(len(out_origs)):\n",
    "    if(out_origs[i]!=out_advs[i]):\n",
    "        success_rate += 1\n",
    "print(success_rate*100.0/len(out_origs))"
   ]
  },
  {
   "cell_type": "code",
   "execution_count": null,
   "metadata": {},
   "outputs": [],
   "source": []
  }
 ],
 "metadata": {
  "kernelspec": {
   "display_name": "Python 3",
   "language": "python",
   "name": "python3"
  },
  "language_info": {
   "codemirror_mode": {
    "name": "ipython",
    "version": 3
   },
   "file_extension": ".py",
   "mimetype": "text/x-python",
   "name": "python",
   "nbconvert_exporter": "python",
   "pygments_lexer": "ipython3",
   "version": "3.6.7"
  }
 },
 "nbformat": 4,
 "nbformat_minor": 2
}
