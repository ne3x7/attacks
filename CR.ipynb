{
  "nbformat": 4,
  "nbformat_minor": 0,
  "metadata": {
    "colab": {
      "name": "CR.ipynb",
      "version": "0.3.2",
      "provenance": [],
      "collapsed_sections": []
    },
    "language_info": {
      "codemirror_mode": {
        "name": "ipython",
        "version": 3
      },
      "file_extension": ".py",
      "mimetype": "text/x-python",
      "name": "python",
      "nbconvert_exporter": "python",
      "pygments_lexer": "ipython3",
      "version": "3.6.3"
    },
    "kernelspec": {
      "name": "python3",
      "display_name": "Python 3"
    },
    "accelerator": "GPU"
  },
  "cells": [
    {
      "cell_type": "code",
      "metadata": {
        "id": "7Hr5SyzVEsx5",
        "colab_type": "code",
        "colab": {}
      },
      "source": [
        "import numpy as np\n",
        "import torch\n",
        "import torch.functional as F\n",
        "import torch.nn as nn\n",
        "from torchvision.models import resnet18\n",
        "from torchvision.datasets import CIFAR10, SVHN\n",
        "from torchvision.transforms import Compose, ToTensor"
      ],
      "execution_count": 0,
      "outputs": []
    },
    {
      "cell_type": "code",
      "metadata": {
        "id": "Qv3SrZ5WEsyA",
        "colab_type": "code",
        "colab": {}
      },
      "source": [
        "def curvature_regularization_loss(model, lossf, x, h, y=None, attack_norm_p='inf'):\n",
        "    \"\"\"\n",
        "    Computes curvature regularization term.\n",
        "    \n",
        "    The formula is L(x) = \\| \\nabla l(x + h z) - \\nabla l(x) \\|^2,\n",
        "    where z depends on attack norm. If attack is in \\ell_inf, then\n",
        "    z = sign \\nabla l(x) / \\| sign \\nabla l(x) \\|. Another good\n",
        "    choice is z = \\nabla l(x) / \\| \\nabla l(x) \\|.\n",
        "    \n",
        "    Args:\n",
        "        model, lossf (Module): model and corresponding loss function\n",
        "        x, y (Tensor): data and optional label\n",
        "        h (float): interpolation parameter\n",
        "        attack_norm_p (str): if 'inf', \\ell_inf z is used, otherwise\n",
        "            simply normalized gradient.\n",
        "    \"\"\"\n",
        "    original = x.clone().detach().requires_grad_(True)\n",
        "    prob_original = lossf(model(original), y) if y is not None else lossf(model(original))\n",
        "    gradients_original = torch.autograd.grad(outputs=prob_original,\n",
        "                                             inputs=original,\n",
        "                                             grad_outputs=torch.ones(prob_original.size()).cuda(),\n",
        "                                             create_graph=True,\n",
        "                                             retain_graph=True)[0]\n",
        "    \n",
        "    # do not back-propagate through z\n",
        "    if attack_norm_p == 'inf':\n",
        "        z = gradients_original.clone().detach().sign()\n",
        "    else:\n",
        "        z = gradients_original.clone().detach()\n",
        "    \n",
        "    interpolated = (x + h * z).requires_grad_(True)\n",
        "    prob_interpolated = lossf(model(interpolated), y) if y is not None else lossf(model(interpolated))\n",
        "    gradients_interpolated = torch.autograd.grad(outputs=prob_interpolated,\n",
        "                                                 inputs=interpolated,\n",
        "                                                 grad_outputs=torch.ones(prob_interpolated.size()).cuda(),\n",
        "                                                 create_graph=True,\n",
        "                                                 retain_graph=True)[0]\n",
        "\n",
        "    return torch.sum((gradients_interpolated - gradients_original) ** 2)"
      ],
      "execution_count": 0,
      "outputs": []
    },
    {
      "cell_type": "code",
      "metadata": {
        "id": "qNmEKckNEsyG",
        "colab_type": "code",
        "colab": {
          "base_uri": "https://localhost:8080/",
          "height": 34
        },
        "outputId": "dc997791-86f4-42f6-baf2-bb6b684d2219"
      },
      "source": [
        "dataset = CIFAR10('data/cifar10', transform=ToTensor(), download=True)\n",
        "dataloader = torch.utils.data.DataLoader(dataset, batch_size=32, shuffle=True)"
      ],
      "execution_count": 3,
      "outputs": [
        {
          "output_type": "stream",
          "text": [
            "Files already downloaded and verified\n"
          ],
          "name": "stdout"
        }
      ]
    },
    {
      "cell_type": "code",
      "metadata": {
        "id": "6Mj8vzA1EsyN",
        "colab_type": "code",
        "colab": {}
      },
      "source": [
        "def update_rate(optimizer, lr):\n",
        "    for param_group in optimizer.param_groups:\n",
        "        param_group['lr'] = lr"
      ],
      "execution_count": 0,
      "outputs": []
    },
    {
      "cell_type": "code",
      "metadata": {
        "id": "u0GM87nlEsyR",
        "colab_type": "code",
        "colab": {}
      },
      "source": [
        "model = resnet18(pretrained=True)\n",
        "model.cuda()\n",
        "opt = torch.optim.Adam(model.parameters())\n",
        "loss = nn.CrossEntropyLoss()"
      ],
      "execution_count": 0,
      "outputs": []
    },
    {
      "cell_type": "code",
      "metadata": {
        "id": "yXmC_z9KEsyW",
        "colab_type": "code",
        "colab": {}
      },
      "source": [
        "epochs = 20\n",
        "epochs_burnin = 5\n",
        "lr_schedule = np.flip(np.linspace(1e-6, 1e-4, epochs))\n",
        "h_schedule = np.linspace(0, 1.5, epochs_burnin).tolist() + np.repeat([1.5], epochs-epochs_burnin).tolist()\n",
        "cr_weight = 4"
      ],
      "execution_count": 0,
      "outputs": []
    },
    {
      "cell_type": "code",
      "metadata": {
        "id": "tgxcO5LTEsyc",
        "colab_type": "code",
        "colab": {}
      },
      "source": [
        "def train_model(model, optimizer, lossf, dataloader, lr_schedule, h_schedule, cr_weight, epochs=epochs):\n",
        "    for epoch, lr, h in zip(range(epochs), lr_schedule, h_schedule):\n",
        "        update_rate(optimizer, lr)\n",
        "        losses = []\n",
        "        for idx, (batch, labels) in enumerate(dataloader):\n",
        "            model.train()\n",
        "            optimizer.zero_grad()\n",
        "            loss = lossf(model(batch.cuda()), labels.cuda())\n",
        "            full_loss = loss + cr_weight * curvature_regularization_loss(model, lossf, batch.cuda(), h, labels.cuda())\n",
        "            losses.append(full_loss.detach().cpu().numpy())\n",
        "            full_loss.backward()\n",
        "            optimizer.step()\n",
        "        if epoch % 10 == 0:\n",
        "            print('[%2d]\\tloss\\t%.7f' % (epoch+1, np.mean(losses)))"
      ],
      "execution_count": 0,
      "outputs": []
    },
    {
      "cell_type": "code",
      "metadata": {
        "id": "JB9q0mOxFz90",
        "colab_type": "code",
        "colab": {}
      },
      "source": [
        "train_model(model, opt, loss, dataloader, lr_schedule, h_schedule, cr_weight, epochs)"
      ],
      "execution_count": 0,
      "outputs": []
    },
    {
      "cell_type": "code",
      "metadata": {
        "id": "B33sxOgjGByb",
        "colab_type": "code",
        "colab": {}
      },
      "source": [
        ""
      ],
      "execution_count": 0,
      "outputs": []
    }
  ]
}