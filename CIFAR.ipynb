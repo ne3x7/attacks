{
 "cells": [
  {
   "cell_type": "code",
   "execution_count": 29,
   "metadata": {},
   "outputs": [
    {
     "name": "stdout",
     "output_type": "stream",
     "text": [
      "The autoreload extension is already loaded. To reload it, use:\n",
      "  %reload_ext autoreload\n"
     ]
    }
   ],
   "source": [
    "import torch\n",
    "import torch.nn as nn\n",
    "import torch.nn.functional as F\n",
    "from torch.utils.data import DataLoader\n",
    "from torchvision.datasets import CIFAR10, MNIST\n",
    "from torchvision.transforms import Compose, ToTensor, Normalize, RandomHorizontalFlip, RandomRotation\n",
    "\n",
    "from cr_ibp_modules import *\n",
    "from cr_ibp_utils import *\n",
    "\n",
    "import numpy as np\n",
    "import matplotlib.pyplot as plt\n",
    "import matplotlib as mpl\n",
    "from tqdm import trange\n",
    "from copy import deepcopy\n",
    "    \n",
    "%load_ext autoreload\n",
    "%autoreload 2\n",
    "%matplotlib inline"
   ]
  },
  {
   "cell_type": "code",
   "execution_count": 2,
   "metadata": {},
   "outputs": [],
   "source": [
    "torch.manual_seed(42);"
   ]
  },
  {
   "cell_type": "code",
   "execution_count": 49,
   "metadata": {},
   "outputs": [
    {
     "name": "stdout",
     "output_type": "stream",
     "text": [
      "Files already downloaded and verified\n"
     ]
    }
   ],
   "source": [
    "dataset = CIFAR10('../data/cifar10',\n",
    "                  download=True,\n",
    "                  train=True,\n",
    "                  transform=Compose([ToTensor(), Normalize(means, stds)]))\n",
    "BATCH_SIZE = 32\n",
    "IMAGE_SIZE = dataset[0][0].shape[1:]\n",
    "FC_DIM = np.prod(IMAGE_SIZE)\n",
    "train_dataset, val_dataset = torch.utils.data.random_split(dataset, [40000, 10000])\n",
    "dataloader_train = DataLoader(train_dataset, batch_size=BATCH_SIZE, shuffle=True)\n",
    "dataloader_val = DataLoader(val_dataset, batch_size=BATCH_SIZE, shuffle=True)\n",
    "dataloader_test = DataLoader(dataset, batch_size=BATCH_SIZE, shuffle=False)\n",
    "dataloader_vis = DataLoader(dataset, batch_size=1, shuffle=False)"
   ]
  },
  {
   "cell_type": "code",
   "execution_count": 45,
   "metadata": {},
   "outputs": [],
   "source": [
    "means = dataset.train_data.transpose(3, 0, 1, 2).reshape(3, -1).mean(axis=-1)\n",
    "stds = dataset.train_data.transpose(3, 0, 1, 2).reshape(3, -1).std(axis=-1)"
   ]
  },
  {
   "cell_type": "code",
   "execution_count": 50,
   "metadata": {},
   "outputs": [],
   "source": [
    "model = Net(n_channels=3, fc_dim=FC_DIM)\n",
    "opt = torch.optim.Adam(model.parameters())\n",
    "lossf = nn.CrossEntropyLoss()"
   ]
  },
  {
   "cell_type": "code",
   "execution_count": 51,
   "metadata": {},
   "outputs": [
    {
     "name": "stderr",
     "output_type": "stream",
     "text": [
      "/Users/nickstulov/Desktop/Study/dl/Project/cr_ibp_utils.py:57: UserWarning: Implicit dimension choice for softmax has been deprecated. Change the call to include dim=X as an argument.\n",
      "  preds = np.argmax(F.softmax(logits).detach().numpy(), axis=-1)\n"
     ]
    },
    {
     "name": "stdout",
     "output_type": "stream",
     "text": [
      "[ 1]\ttrain loss\t2.3032123\ttime\t39s\ttrain acc\t0.10\n"
     ]
    },
    {
     "name": "stderr",
     "output_type": "stream",
     "text": [
      "/Users/nickstulov/Desktop/Study/dl/Project/cr_ibp_utils.py:70: UserWarning: Implicit dimension choice for softmax has been deprecated. Change the call to include dim=X as an argument.\n",
      "  preds = np.argmax(F.softmax(logits).detach().numpy(), axis=-1)\n"
     ]
    },
    {
     "name": "stdout",
     "output_type": "stream",
     "text": [
      "[ 1]\tvalid loss\t2.3028925\tvalid acc\t0.10\n",
      "[ 2]\ttrain loss\t2.3027424\ttime\t41s\ttrain acc\t0.10\n",
      "[ 3]\ttrain loss\t2.3027627\ttime\t41s\ttrain acc\t0.10\n",
      "[ 3]\tvalid loss\t2.3029000\tvalid acc\t0.09\n",
      "[ 4]\ttrain loss\t2.3027593\ttime\t39s\ttrain acc\t0.10\n",
      "[ 5]\ttrain loss\t2.3027214\ttime\t40s\ttrain acc\t0.10\n",
      "[ 5]\tvalid loss\t2.3028015\tvalid acc\t0.10\n",
      "[ 6]\ttrain loss\t2.3027516\ttime\t37s\ttrain acc\t0.10\n",
      "[ 7]\ttrain loss\t2.3027626\ttime\t37s\ttrain acc\t0.10\n",
      "[ 7]\tvalid loss\t2.3028761\tvalid acc\t0.10\n",
      "[ 8]\ttrain loss\t2.3027573\ttime\t38s\ttrain acc\t0.10\n",
      "[ 9]\ttrain loss\t2.3027552\ttime\t36s\ttrain acc\t0.10\n",
      "[ 9]\tvalid loss\t2.3029673\tvalid acc\t0.10\n",
      "[10]\ttrain loss\t2.3027663\ttime\t42s\ttrain acc\t0.10\n",
      "[11]\ttrain loss\t2.3026081\ttime\t41s\ttrain acc\t0.10\n",
      "[11]\tvalid loss\t2.3029347\tvalid acc\t0.10\n",
      "[12]\ttrain loss\t2.3025979\ttime\t35s\ttrain acc\t0.10\n",
      "[13]\ttrain loss\t2.3025892\ttime\t36s\ttrain acc\t0.10\n",
      "[13]\tvalid loss\t2.3029142\tvalid acc\t0.09\n",
      "[14]\ttrain loss\t2.3025844\ttime\t39s\ttrain acc\t0.10\n",
      "[15]\ttrain loss\t2.3025822\ttime\t39s\ttrain acc\t0.10\n",
      "[15]\tvalid loss\t2.3028998\tvalid acc\t0.09\n",
      "[16]\ttrain loss\t2.3025790\ttime\t36s\ttrain acc\t0.10\n",
      "[17]\ttrain loss\t2.3025768\ttime\t44s\ttrain acc\t0.10\n",
      "[17]\tvalid loss\t2.3028955\tvalid acc\t0.09\n"
     ]
    },
    {
     "ename": "KeyboardInterrupt",
     "evalue": "",
     "output_type": "error",
     "traceback": [
      "\u001b[0;31m---------------------------------------------------------------------------\u001b[0m",
      "\u001b[0;31mKeyboardInterrupt\u001b[0m                         Traceback (most recent call last)",
      "\u001b[0;32m<ipython-input-51-6d0b734c6287>\u001b[0m in \u001b[0;36m<module>\u001b[0;34m()\u001b[0m\n\u001b[1;32m      1\u001b[0m train(model, dataloader_train, dataloader_val, lossf, opt,\n\u001b[0;32m----> 2\u001b[0;31m       lr_schedule=[1e-3] * 10 + [1e-4] * 10 + [1e-5] * 10, epochs=30)\n\u001b[0m",
      "\u001b[0;32m~/Desktop/Study/dl/Project/cr_ibp_utils.py\u001b[0m in \u001b[0;36mtrain\u001b[0;34m(model, loader, val_loader, loss_func, optimizer, lr_schedule, h_schedule, mode, cr_weight, epochs)\u001b[0m\n\u001b[1;32m     58\u001b[0m             \u001b[0manswers\u001b[0m\u001b[0;34m.\u001b[0m\u001b[0mextend\u001b[0m\u001b[0;34m(\u001b[0m\u001b[0mpreds\u001b[0m\u001b[0;34m.\u001b[0m\u001b[0mflatten\u001b[0m\u001b[0;34m(\u001b[0m\u001b[0;34m)\u001b[0m \u001b[0;34m==\u001b[0m \u001b[0mlabels\u001b[0m\u001b[0;34m.\u001b[0m\u001b[0mdetach\u001b[0m\u001b[0;34m(\u001b[0m\u001b[0;34m)\u001b[0m\u001b[0;34m.\u001b[0m\u001b[0mnumpy\u001b[0m\u001b[0;34m(\u001b[0m\u001b[0;34m)\u001b[0m\u001b[0;34m.\u001b[0m\u001b[0mflatten\u001b[0m\u001b[0;34m(\u001b[0m\u001b[0;34m)\u001b[0m\u001b[0;34m)\u001b[0m\u001b[0;34m\u001b[0m\u001b[0m\n\u001b[1;32m     59\u001b[0m             \u001b[0mloss\u001b[0m\u001b[0;34m.\u001b[0m\u001b[0mbackward\u001b[0m\u001b[0;34m(\u001b[0m\u001b[0;34m)\u001b[0m\u001b[0;34m\u001b[0m\u001b[0m\n\u001b[0;32m---> 60\u001b[0;31m             \u001b[0moptimizer\u001b[0m\u001b[0;34m.\u001b[0m\u001b[0mstep\u001b[0m\u001b[0;34m(\u001b[0m\u001b[0;34m)\u001b[0m\u001b[0;34m\u001b[0m\u001b[0m\n\u001b[0m\u001b[1;32m     61\u001b[0m         \u001b[0mtf\u001b[0m \u001b[0;34m=\u001b[0m \u001b[0mtime\u001b[0m\u001b[0;34m(\u001b[0m\u001b[0;34m)\u001b[0m\u001b[0;34m\u001b[0m\u001b[0m\n\u001b[1;32m     62\u001b[0m         \u001b[0mprint\u001b[0m\u001b[0;34m(\u001b[0m\u001b[0;34m'[%2d]\\ttrain loss\\t%.7f\\ttime\\t%ds\\ttrain acc\\t%.2f'\u001b[0m \u001b[0;34m%\u001b[0m \u001b[0;34m(\u001b[0m\u001b[0mepoch\u001b[0m\u001b[0;34m+\u001b[0m\u001b[0;36m1\u001b[0m\u001b[0;34m,\u001b[0m \u001b[0mnp\u001b[0m\u001b[0;34m.\u001b[0m\u001b[0mmean\u001b[0m\u001b[0;34m(\u001b[0m\u001b[0mlosses\u001b[0m\u001b[0;34m)\u001b[0m\u001b[0;34m,\u001b[0m \u001b[0mint\u001b[0m\u001b[0;34m(\u001b[0m\u001b[0mtf\u001b[0m\u001b[0;34m-\u001b[0m\u001b[0mts\u001b[0m\u001b[0;34m)\u001b[0m\u001b[0;34m,\u001b[0m \u001b[0mnp\u001b[0m\u001b[0;34m.\u001b[0m\u001b[0mmean\u001b[0m\u001b[0;34m(\u001b[0m\u001b[0manswers\u001b[0m\u001b[0;34m)\u001b[0m\u001b[0;34m)\u001b[0m\u001b[0;34m)\u001b[0m\u001b[0;34m\u001b[0m\u001b[0m\n",
      "\u001b[0;32m~/.virtualenvs/torch1venv3/lib/python3.6/site-packages/torch/optim/adam.py\u001b[0m in \u001b[0;36mstep\u001b[0;34m(self, closure)\u001b[0m\n\u001b[1;32m    105\u001b[0m                 \u001b[0mstep_size\u001b[0m \u001b[0;34m=\u001b[0m \u001b[0mgroup\u001b[0m\u001b[0;34m[\u001b[0m\u001b[0;34m'lr'\u001b[0m\u001b[0;34m]\u001b[0m \u001b[0;34m*\u001b[0m \u001b[0mmath\u001b[0m\u001b[0;34m.\u001b[0m\u001b[0msqrt\u001b[0m\u001b[0;34m(\u001b[0m\u001b[0mbias_correction2\u001b[0m\u001b[0;34m)\u001b[0m \u001b[0;34m/\u001b[0m \u001b[0mbias_correction1\u001b[0m\u001b[0;34m\u001b[0m\u001b[0m\n\u001b[1;32m    106\u001b[0m \u001b[0;34m\u001b[0m\u001b[0m\n\u001b[0;32m--> 107\u001b[0;31m                 \u001b[0mp\u001b[0m\u001b[0;34m.\u001b[0m\u001b[0mdata\u001b[0m\u001b[0;34m.\u001b[0m\u001b[0maddcdiv_\u001b[0m\u001b[0;34m(\u001b[0m\u001b[0;34m-\u001b[0m\u001b[0mstep_size\u001b[0m\u001b[0;34m,\u001b[0m \u001b[0mexp_avg\u001b[0m\u001b[0;34m,\u001b[0m \u001b[0mdenom\u001b[0m\u001b[0;34m)\u001b[0m\u001b[0;34m\u001b[0m\u001b[0m\n\u001b[0m\u001b[1;32m    108\u001b[0m \u001b[0;34m\u001b[0m\u001b[0m\n\u001b[1;32m    109\u001b[0m         \u001b[0;32mreturn\u001b[0m \u001b[0mloss\u001b[0m\u001b[0;34m\u001b[0m\u001b[0m\n",
      "\u001b[0;31mKeyboardInterrupt\u001b[0m: "
     ]
    }
   ],
   "source": [
    "train(model, dataloader_train, dataloader_val, lossf, opt,\n",
    "      lr_schedule=[1e-3] * 10 + [1e-4] * 10 + [1e-5] * 10, epochs=30)"
   ]
  },
  {
   "cell_type": "code",
   "execution_count": null,
   "metadata": {},
   "outputs": [],
   "source": [
    "torch.save(model, '../models/model_clean.mdl')"
   ]
  },
  {
   "cell_type": "code",
   "execution_count": null,
   "metadata": {},
   "outputs": [],
   "source": [
    "model_ibp = Net(n_channels=3, fc_dim=FC_DIM)\n",
    "opt = torch.optim.Adam(model_ibp.parameters())\n",
    "lossf = nn.CrossEntropyLoss()"
   ]
  },
  {
   "cell_type": "code",
   "execution_count": null,
   "metadata": {},
   "outputs": [],
   "source": [
    "train(model_ibp, dataloader_train, dataloader_val, lossf, opt,\n",
    "      lr_schedule=[1e-3] * 15 + [1e-4] * 10 + [1e-5] * 5, mode='ibp', epochs=30)"
   ]
  },
  {
   "cell_type": "code",
   "execution_count": null,
   "metadata": {},
   "outputs": [],
   "source": []
  }
 ],
 "metadata": {
  "kernelspec": {
   "display_name": "Python 3",
   "language": "python",
   "name": "python3"
  },
  "language_info": {
   "codemirror_mode": {
    "name": "ipython",
    "version": 3
   },
   "file_extension": ".py",
   "mimetype": "text/x-python",
   "name": "python",
   "nbconvert_exporter": "python",
   "pygments_lexer": "ipython3",
   "version": "3.6.3"
  }
 },
 "nbformat": 4,
 "nbformat_minor": 2
}
